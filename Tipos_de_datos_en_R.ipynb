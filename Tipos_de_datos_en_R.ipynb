{
  "cells": [
    {
      "cell_type": "markdown",
      "metadata": {
        "id": "view-in-github",
        "colab_type": "text"
      },
      "source": [
        "<a href=\"https://colab.research.google.com/github/apchavezr/Programacion_Analisis_Datos/blob/main/Tipos_de_datos_en_R.ipynb\" target=\"_parent\"><img src=\"https://colab.research.google.com/assets/colab-badge.svg\" alt=\"Open In Colab\"/></a>"
      ]
    },
    {
      "cell_type": "markdown",
      "id": "62f505ea",
      "metadata": {
        "id": "62f505ea"
      },
      "source": [
        "\n",
        "# Tipos de datos en R\n",
        "\n",
        "El lenguaje R, orientado al análisis estadístico y la visualización de datos, maneja una tipología de datos más alineada con estructuras vectorizadas. A diferencia de Python, R aplica un enfoque fuertemente tipado y vectorizado por defecto, lo que influye en su semántica y comportamiento.\n",
        "\n",
        "## 1. Numéricos (`numeric`, `integer`)\n",
        "\n",
        "R clasifica los valores numéricos en `numeric` (por defecto de doble precisión) e `integer` (enteros exactos). La distinción puede afectar la eficiencia y el comportamiento de ciertas funciones estadísticas."
      ]
    },
    {
      "cell_type": "code",
      "source": [
        "x <- 10         # numeric\n",
        "y <- 10L        # integer\n",
        "print(x)\n",
        "print(y)"
      ],
      "metadata": {
        "colab": {
          "base_uri": "https://localhost:8080/"
        },
        "id": "NrtZEB1fJAGA",
        "outputId": "fc4e0384-5f45-42a7-f655-e432444080ed"
      },
      "id": "NrtZEB1fJAGA",
      "execution_count": 3,
      "outputs": [
        {
          "output_type": "stream",
          "name": "stdout",
          "text": [
            "[1] 10\n",
            "[1] 10\n"
          ]
        }
      ]
    },
    {
      "cell_type": "markdown",
      "source": [
        "La notación con `L` indica explícitamente que se desea un entero, lo cual es útil en control de tipos en paquetes exigentes como `data.table` o en funciones que realizan operaciones sobre memoria."
      ],
      "metadata": {
        "id": "uhSuVRqcJT6G"
      },
      "id": "uhSuVRqcJT6G"
    },
    {
      "cell_type": "markdown",
      "source": [
        "## 2. Cadenas (`character`)\n",
        "\n",
        "Las variables tipo carácter se usan para almacenar textos. Su correcta identificación es clave para evitar errores en la manipulación de factores y agrupamientos."
      ],
      "metadata": {
        "id": "_NV6ySPCJCg4"
      },
      "id": "_NV6ySPCJCg4"
    },
    {
      "cell_type": "code",
      "source": [
        "nombre <- \"Camila\"\n",
        "print(nombre)"
      ],
      "metadata": {
        "colab": {
          "base_uri": "https://localhost:8080/"
        },
        "id": "DvFERXEpJYo-",
        "outputId": "812d4d52-a214-448e-b72a-d35715b65e40"
      },
      "id": "DvFERXEpJYo-",
      "execution_count": 13,
      "outputs": [
        {
          "output_type": "stream",
          "name": "stdout",
          "text": [
            "[1] \"Camila\"\n"
          ]
        }
      ]
    },
    {
      "cell_type": "markdown",
      "source": [
        "## 3. Lógicos (`logical`)\n",
        "\n",
        "Los valores `TRUE` y `FALSE` son de tipo lógico. Se emplean en evaluaciones condicionales, filtrado de datos y construcción de vectores booleanos."
      ],
      "metadata": {
        "id": "uT07dNneJa3h"
      },
      "id": "uT07dNneJa3h"
    },
    {
      "cell_type": "code",
      "source": [
        "activo <- TRUE\n",
        "print(activo)"
      ],
      "metadata": {
        "colab": {
          "base_uri": "https://localhost:8080/"
        },
        "id": "PUumgG6XJrP1",
        "outputId": "6b6a4db8-ef60-431a-9d26-ea1384c1a79e"
      },
      "id": "PUumgG6XJrP1",
      "execution_count": 8,
      "outputs": [
        {
          "output_type": "stream",
          "name": "stdout",
          "text": [
            "[1] TRUE\n"
          ]
        }
      ]
    },
    {
      "cell_type": "markdown",
      "source": [
        "## 4. Factores (`factor`)\n",
        "\n",
        "Los factores representan variables categóricas, asociando internamente niveles a códigos numéricos. Esta representación es útil en modelos estadísticos, ya que permite distinguir entre variables continuas y categóricas."
      ],
      "metadata": {
        "id": "HI9pX4d4JsyN"
      },
      "id": "HI9pX4d4JsyN"
    },
    {
      "cell_type": "code",
      "source": [
        "genero <- factor(c(\"F\", \"M\", \"F\"))\n",
        "print(genero)"
      ],
      "metadata": {
        "colab": {
          "base_uri": "https://localhost:8080/"
        },
        "id": "msNsCqLaJ448",
        "outputId": "4ce342a6-9359-40e5-b3a5-adc4395b9d8a"
      },
      "id": "msNsCqLaJ448",
      "execution_count": 10,
      "outputs": [
        {
          "output_type": "stream",
          "name": "stdout",
          "text": [
            "[1] F M F\n",
            "Levels: F M\n"
          ]
        }
      ]
    },
    {
      "cell_type": "markdown",
      "source": [
        "Es importante convertir correctamente los factores en análisis predictivos, ya que ciertos algoritmos (como árboles de decisión o regresión logística) tratan de forma diferente las variables categóricas.\n",
        "\n"
      ],
      "metadata": {
        "id": "WxqXwB-WJ7R7"
      },
      "id": "WxqXwB-WJ7R7"
    },
    {
      "cell_type": "markdown",
      "source": [
        "## 5. Listas y vectores\n",
        "\n",
        "Aunque R no dispone de listas, tuplas o diccionarios en el mismo sentido que Python, utiliza listas para agrupar objetos heterogéneos, y vectores como la unidad básica para representar datos homogéneos.\n"
      ],
      "metadata": {
        "id": "ccGijYPbKFzT"
      },
      "id": "ccGijYPbKFzT"
    },
    {
      "cell_type": "code",
      "source": [
        "lista <- list(nombre = \"Diana\", edad = 27, activo = TRUE)\n",
        "print(lista)"
      ],
      "metadata": {
        "colab": {
          "base_uri": "https://localhost:8080/"
        },
        "id": "0ahM9P-VKN76",
        "outputId": "1d5d3ed4-8ae6-484c-bd4f-c62eefb12193"
      },
      "id": "0ahM9P-VKN76",
      "execution_count": 12,
      "outputs": [
        {
          "output_type": "stream",
          "name": "stdout",
          "text": [
            "$nombre\n",
            "[1] \"Diana\"\n",
            "\n",
            "$edad\n",
            "[1] 27\n",
            "\n",
            "$activo\n",
            "[1] TRUE\n",
            "\n"
          ]
        }
      ]
    },
    {
      "cell_type": "markdown",
      "source": [
        "Estas estructuras son la base para construir `data frames`, que representan tablas estructuradas y son centrales en el análisis de datos."
      ],
      "metadata": {
        "id": "ngD6aAZnKBsS"
      },
      "id": "ngD6aAZnKBsS"
    }
  ],
  "metadata": {
    "colab": {
      "provenance": [],
      "include_colab_link": true
    },
    "kernelspec": {
      "name": "ir",
      "display_name": "R"
    },
    "language_info": {
      "name": "R"
    }
  },
  "nbformat": 4,
  "nbformat_minor": 5
}